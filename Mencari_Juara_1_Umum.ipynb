{
  "cells": [
    {
      "cell_type": "markdown",
      "metadata": {
        "id": "view-in-github",
        "colab_type": "text"
      },
      "source": [
        "<a href=\"https://colab.research.google.com/github/yusrilalbi/Playing-With-Pandas/blob/main/Mencari_Juara_1_Umum.ipynb\" target=\"_parent\"><img src=\"https://colab.research.google.com/assets/colab-badge.svg\" alt=\"Open In Colab\"/></a>"
      ]
    },
    {
      "cell_type": "code",
      "source": [
        "import numpy as np\n",
        "import pandas as pd"
      ],
      "metadata": {
        "id": "if6MAOqjY_k_"
      },
      "execution_count": null,
      "outputs": []
    },
    {
      "cell_type": "code",
      "source": [
        "import pandas as pd\n",
        "\n",
        "df = pd.read_csv('LAMPIRAN FOHKN.csv')\n",
        "df.info()"
      ],
      "metadata": {
        "id": "nD3xrDduZ3Za",
        "outputId": "b4b07e52-cafb-4076-9ed4-7a08d8c01ea1",
        "colab": {
          "base_uri": "https://localhost:8080/"
        }
      },
      "execution_count": null,
      "outputs": [
        {
          "output_type": "stream",
          "name": "stdout",
          "text": [
            "<class 'pandas.core.frame.DataFrame'>\n",
            "RangeIndex: 1991 entries, 0 to 1990\n",
            "Data columns (total 7 columns):\n",
            " #   Column            Non-Null Count  Dtype \n",
            "---  ------            --------------  ----- \n",
            " 0   NAMA              1991 non-null   object\n",
            " 1   SEKOLAH/MADRASAH  1991 non-null   object\n",
            " 2   PROVINSI          1991 non-null   object\n",
            " 3   BIDANG            1991 non-null   object\n",
            " 4   NILAI             1928 non-null   object\n",
            " 5   PRESTASI          1352 non-null   object\n",
            " 6   JUARA             193 non-null    object\n",
            "dtypes: object(7)\n",
            "memory usage: 109.0+ KB\n"
          ]
        }
      ]
    },
    {
      "cell_type": "code",
      "source": [
        "listNama = df[\"NAMA\"].unique()\n",
        "print(listNama[0:10])"
      ],
      "metadata": {
        "id": "8cRp7jB-aiRV",
        "outputId": "d60119dc-d544-4d5e-f53a-3c90032d9323",
        "colab": {
          "base_uri": "https://localhost:8080/"
        }
      },
      "execution_count": null,
      "outputs": [
        {
          "output_type": "stream",
          "name": "stdout",
          "text": [
            "['A.Jessie Stevanie Tampubolon' 'Aan Pambudi' 'Abdul Azis'\n",
            " 'Abdurrahman Malik Fajar' 'Abi Affan Barokah' 'Abil Rizki'\n",
            " 'Achmad Abdul Aziz' 'Achmad Fauzi' 'Achmad Liem Souliyong'\n",
            " 'Achmad Muqorrobin']\n"
          ]
        }
      ]
    },
    {
      "cell_type": "code",
      "source": [
        "df[df[\"NAMA\"]==\"Yusril Albi\"]"
      ],
      "metadata": {
        "id": "wmgVzzPrfS3R",
        "outputId": "b9d51091-8c91-4f30-fe4c-bcfa032853ed",
        "colab": {
          "base_uri": "https://localhost:8080/",
          "height": 175
        }
      },
      "execution_count": null,
      "outputs": [
        {
          "output_type": "execute_result",
          "data": {
            "text/plain": [
              "             NAMA       SEKOLAH/MADRASAH     PROVINSI       BIDANG   NILAI  \\\n",
              "1948  Yusril Albi  Universitas Pertamina  DKI JAKARTA   Matematika   41.00   \n",
              "1949  Yusril Albi  Universitas Pertamina  DKI JAKARTA  Informatika   96.00   \n",
              "1950  Yusril Albi  Universitas Pertamina  DKI JAKARTA     Geografi  -10.00   \n",
              "1951  Yusril Albi  Universitas Pertamina  DKI JAKARTA    Astronomi   20.00   \n",
              "\n",
              "             PRESTASI    JUARA  \n",
              "1948      MEDALI EMAS      NaN  \n",
              "1949      MEDALI EMAS  JUARA I  \n",
              "1950              NaN      NaN  \n",
              "1951  MEDALI PERUNGGU      NaN  "
            ],
            "text/html": [
              "\n",
              "  <div id=\"df-4a380107-e38c-4c45-982e-4282b20a9c18\">\n",
              "    <div class=\"colab-df-container\">\n",
              "      <div>\n",
              "<style scoped>\n",
              "    .dataframe tbody tr th:only-of-type {\n",
              "        vertical-align: middle;\n",
              "    }\n",
              "\n",
              "    .dataframe tbody tr th {\n",
              "        vertical-align: top;\n",
              "    }\n",
              "\n",
              "    .dataframe thead th {\n",
              "        text-align: right;\n",
              "    }\n",
              "</style>\n",
              "<table border=\"1\" class=\"dataframe\">\n",
              "  <thead>\n",
              "    <tr style=\"text-align: right;\">\n",
              "      <th></th>\n",
              "      <th>NAMA</th>\n",
              "      <th>SEKOLAH/MADRASAH</th>\n",
              "      <th>PROVINSI</th>\n",
              "      <th>BIDANG</th>\n",
              "      <th>NILAI</th>\n",
              "      <th>PRESTASI</th>\n",
              "      <th>JUARA</th>\n",
              "    </tr>\n",
              "  </thead>\n",
              "  <tbody>\n",
              "    <tr>\n",
              "      <th>1948</th>\n",
              "      <td>Yusril Albi</td>\n",
              "      <td>Universitas Pertamina</td>\n",
              "      <td>DKI JAKARTA</td>\n",
              "      <td>Matematika</td>\n",
              "      <td>41.00</td>\n",
              "      <td>MEDALI EMAS</td>\n",
              "      <td>NaN</td>\n",
              "    </tr>\n",
              "    <tr>\n",
              "      <th>1949</th>\n",
              "      <td>Yusril Albi</td>\n",
              "      <td>Universitas Pertamina</td>\n",
              "      <td>DKI JAKARTA</td>\n",
              "      <td>Informatika</td>\n",
              "      <td>96.00</td>\n",
              "      <td>MEDALI EMAS</td>\n",
              "      <td>JUARA I</td>\n",
              "    </tr>\n",
              "    <tr>\n",
              "      <th>1950</th>\n",
              "      <td>Yusril Albi</td>\n",
              "      <td>Universitas Pertamina</td>\n",
              "      <td>DKI JAKARTA</td>\n",
              "      <td>Geografi</td>\n",
              "      <td>-10.00</td>\n",
              "      <td>NaN</td>\n",
              "      <td>NaN</td>\n",
              "    </tr>\n",
              "    <tr>\n",
              "      <th>1951</th>\n",
              "      <td>Yusril Albi</td>\n",
              "      <td>Universitas Pertamina</td>\n",
              "      <td>DKI JAKARTA</td>\n",
              "      <td>Astronomi</td>\n",
              "      <td>20.00</td>\n",
              "      <td>MEDALI PERUNGGU</td>\n",
              "      <td>NaN</td>\n",
              "    </tr>\n",
              "  </tbody>\n",
              "</table>\n",
              "</div>\n",
              "      <button class=\"colab-df-convert\" onclick=\"convertToInteractive('df-4a380107-e38c-4c45-982e-4282b20a9c18')\"\n",
              "              title=\"Convert this dataframe to an interactive table.\"\n",
              "              style=\"display:none;\">\n",
              "        \n",
              "  <svg xmlns=\"http://www.w3.org/2000/svg\" height=\"24px\"viewBox=\"0 0 24 24\"\n",
              "       width=\"24px\">\n",
              "    <path d=\"M0 0h24v24H0V0z\" fill=\"none\"/>\n",
              "    <path d=\"M18.56 5.44l.94 2.06.94-2.06 2.06-.94-2.06-.94-.94-2.06-.94 2.06-2.06.94zm-11 1L8.5 8.5l.94-2.06 2.06-.94-2.06-.94L8.5 2.5l-.94 2.06-2.06.94zm10 10l.94 2.06.94-2.06 2.06-.94-2.06-.94-.94-2.06-.94 2.06-2.06.94z\"/><path d=\"M17.41 7.96l-1.37-1.37c-.4-.4-.92-.59-1.43-.59-.52 0-1.04.2-1.43.59L10.3 9.45l-7.72 7.72c-.78.78-.78 2.05 0 2.83L4 21.41c.39.39.9.59 1.41.59.51 0 1.02-.2 1.41-.59l7.78-7.78 2.81-2.81c.8-.78.8-2.07 0-2.86zM5.41 20L4 18.59l7.72-7.72 1.47 1.35L5.41 20z\"/>\n",
              "  </svg>\n",
              "      </button>\n",
              "      \n",
              "  <style>\n",
              "    .colab-df-container {\n",
              "      display:flex;\n",
              "      flex-wrap:wrap;\n",
              "      gap: 12px;\n",
              "    }\n",
              "\n",
              "    .colab-df-convert {\n",
              "      background-color: #E8F0FE;\n",
              "      border: none;\n",
              "      border-radius: 50%;\n",
              "      cursor: pointer;\n",
              "      display: none;\n",
              "      fill: #1967D2;\n",
              "      height: 32px;\n",
              "      padding: 0 0 0 0;\n",
              "      width: 32px;\n",
              "    }\n",
              "\n",
              "    .colab-df-convert:hover {\n",
              "      background-color: #E2EBFA;\n",
              "      box-shadow: 0px 1px 2px rgba(60, 64, 67, 0.3), 0px 1px 3px 1px rgba(60, 64, 67, 0.15);\n",
              "      fill: #174EA6;\n",
              "    }\n",
              "\n",
              "    [theme=dark] .colab-df-convert {\n",
              "      background-color: #3B4455;\n",
              "      fill: #D2E3FC;\n",
              "    }\n",
              "\n",
              "    [theme=dark] .colab-df-convert:hover {\n",
              "      background-color: #434B5C;\n",
              "      box-shadow: 0px 1px 3px 1px rgba(0, 0, 0, 0.15);\n",
              "      filter: drop-shadow(0px 1px 2px rgba(0, 0, 0, 0.3));\n",
              "      fill: #FFFFFF;\n",
              "    }\n",
              "  </style>\n",
              "\n",
              "      <script>\n",
              "        const buttonEl =\n",
              "          document.querySelector('#df-4a380107-e38c-4c45-982e-4282b20a9c18 button.colab-df-convert');\n",
              "        buttonEl.style.display =\n",
              "          google.colab.kernel.accessAllowed ? 'block' : 'none';\n",
              "\n",
              "        async function convertToInteractive(key) {\n",
              "          const element = document.querySelector('#df-4a380107-e38c-4c45-982e-4282b20a9c18');\n",
              "          const dataTable =\n",
              "            await google.colab.kernel.invokeFunction('convertToInteractive',\n",
              "                                                     [key], {});\n",
              "          if (!dataTable) return;\n",
              "\n",
              "          const docLinkHtml = 'Like what you see? Visit the ' +\n",
              "            '<a target=\"_blank\" href=https://colab.research.google.com/notebooks/data_table.ipynb>data table notebook</a>'\n",
              "            + ' to learn more about interactive tables.';\n",
              "          element.innerHTML = '';\n",
              "          dataTable['output_type'] = 'display_data';\n",
              "          await google.colab.output.renderOutput(dataTable, element);\n",
              "          const docLink = document.createElement('div');\n",
              "          docLink.innerHTML = docLinkHtml;\n",
              "          element.appendChild(docLink);\n",
              "        }\n",
              "      </script>\n",
              "    </div>\n",
              "  </div>\n",
              "  "
            ]
          },
          "metadata": {},
          "execution_count": 66
        }
      ]
    },
    {
      "cell_type": "code",
      "source": [
        "kamus = {}\n",
        "\n",
        "for i in listNama :\n",
        "  kamus[i] = 0\n",
        "j = 0\n",
        "for i in range(0,1991):\n",
        "  if (df.loc[i][\"NAMA\"] != listNama[j]):\n",
        "    j += 1\n",
        "  if (df.loc[i][\"JUARA\"]==\"JUARA I\"):\n",
        "    kamus[listNama[j]] += 6\n",
        "  elif (df.loc[i][\"JUARA\"]==\"JUARA II\"):\n",
        "    kamus[listNama[j]] += 5\n",
        "  elif (df.loc[i][\"JUARA\"]==\"JUARA III\"):\n",
        "    kamus[listNama[j]] += 4\n",
        "  elif (df.loc[i][\"PRESTASI\"]==\"MEDALI PERUNGGU\"):\n",
        "    kamus[listNama[j]] += 3\n",
        "  elif (df.loc[i][\"PRESTASI\"]==\"MEDALI PERAK\"):\n",
        "    kamus[listNama[j]] += 2\n",
        "  elif (df.loc[i][\"PRESTASI\"]==\"MEDALI EMAS\"):\n",
        "    kamus[listNama[j]] += 1"
      ],
      "metadata": {
        "id": "337BwaJdc8bW"
      },
      "execution_count": null,
      "outputs": []
    },
    {
      "cell_type": "code",
      "source": [
        "kamus = sorted(kamus.items(), key =\n",
        "             lambda kv:(kv[1], kv[0]))"
      ],
      "metadata": {
        "id": "b9hV4E46jvgO"
      },
      "execution_count": null,
      "outputs": []
    },
    {
      "cell_type": "code",
      "source": [
        "kamus[-10:-1]"
      ],
      "metadata": {
        "id": "hZkRAIQ-j6zr",
        "outputId": "1b0324bf-d855-4727-82a2-c797acd0c3cf",
        "colab": {
          "base_uri": "https://localhost:8080/"
        }
      },
      "execution_count": null,
      "outputs": [
        {
          "output_type": "execute_result",
          "data": {
            "text/plain": [
              "[('Zulfahmi', 11),\n",
              " ('Surya Abdi Prahmana', 12),\n",
              " ('Muhammad Putra Aprullah', 13),\n",
              " ('Nikmatus Solikah, S.Pd', 14),\n",
              " ('Fajar Desy Clarisma', 15),\n",
              " ('Nayla Az Zurra', 17),\n",
              " ('Qurotul Aini Jamaliah', 18),\n",
              " ('Muhammad Zainullah', 21),\n",
              " ('Rolan', 21)]"
            ]
          },
          "metadata": {},
          "execution_count": 77
        }
      ]
    }
  ],
  "metadata": {
    "colab": {
      "collapsed_sections": [],
      "name": "Mencari Juara 1 Umum",
      "provenance": [],
      "include_colab_link": true
    },
    "kernelspec": {
      "display_name": "Python 3",
      "name": "python3"
    }
  },
  "nbformat": 4,
  "nbformat_minor": 0
}